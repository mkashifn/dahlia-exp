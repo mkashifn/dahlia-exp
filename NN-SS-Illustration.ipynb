{
 "cells": [
  {
   "cell_type": "markdown",
   "metadata": {},
   "source": [
    "# The Problem\n",
    "\n",
    "Given and array A containing N numbers sorted by some algorithm (say A1, A2, A3, ..., AN after sorting),\n",
    "\n",
    "Minimize the sum of products: A1A2 + A2A3 + .. A(N-1)AN\n",
    "\n",
    "### The problem:\n",
    "`\n",
    "Give an array A, find an ordering of all the elements of A such that the total sum of the product of each pair of two adjacent elements is minimized:\n",
    "`"
   ]
  },
  {
   "cell_type": "code",
   "execution_count": 1,
   "metadata": {},
   "outputs": [],
   "source": [
    "import itertools\n",
    "import operator\n",
    "import random"
   ]
  },
  {
   "cell_type": "code",
   "execution_count": 2,
   "metadata": {},
   "outputs": [],
   "source": [
    "def compute_sum_of_products(A):\n",
    "    res = 0\n",
    "    for i in range(len(A)-1):\n",
    "        res += A[i]*A[i+1]\n",
    "    #print(A, '=>',res)\n",
    "    return res"
   ]
  },
  {
   "cell_type": "code",
   "execution_count": 3,
   "metadata": {},
   "outputs": [],
   "source": [
    "def compute_sum_of_products_algo_large(A):\n",
    "    A.sort(reverse=True)\n",
    "    A_len = len(A)\n",
    "    mid = int( A_len / 2)\n",
    "    mid += 0 if A_len % 2 == 0 else 1\n",
    "    J = A[0 : mid]\n",
    "    K = A[mid: ]\n",
    "    j = 0\n",
    "    k = 0\n",
    "    res = []\n",
    "    for i in range(A_len):\n",
    "        print('    !', i, ': ', J, K)\n",
    "        if i % 2 == 0:\n",
    "            if (len(J) == 1 and len(K) == 1):\n",
    "                val = [K[0], J[0]]\n",
    "                res.extend(val)\n",
    "                break\n",
    "            elif j % 2 == 0:\n",
    "                val = J[0]\n",
    "            else:\n",
    "                val = J[-1]\n",
    "            J.remove(val)\n",
    "            j += 1\n",
    "        else:\n",
    "            if k % 2 == 0:\n",
    "                val = K[-1]\n",
    "            else:\n",
    "                val = K[0]\n",
    "            K.remove(val)\n",
    "            k += 1\n",
    "        res.append(val)\n",
    "    return res"
   ]
  },
  {
   "cell_type": "code",
   "execution_count": 4,
   "metadata": {},
   "outputs": [],
   "source": [
    "def compute_sum_of_products_algo_large_2(A):\n",
    "    A.sort()\n",
    "    A_len = len(A)\n",
    "    res = []\n",
    "    left = []\n",
    "    right = []\n",
    "    i = 0\n",
    "    while len(A) > 0:\n",
    "        #print('    !', i, ': ', A, left, right)\n",
    "        if len(A) >= 4:\n",
    "            val = [A[-1], A[0]]\n",
    "            left.extend(val)\n",
    "            del A[0]\n",
    "            del A[-1]\n",
    "            val = [A[-1], A[0]]\n",
    "            right.extend(val)\n",
    "            del A[0]\n",
    "            del A[-1]\n",
    "        elif len(A) == 3:\n",
    "            right.append(A[1])\n",
    "            del A[1]\n",
    "        elif len(A) == 2:\n",
    "            left.append(A[-1])\n",
    "            right.append(A[0])\n",
    "            del A[0]\n",
    "            del A[-1]\n",
    "        else:\n",
    "            left.append(A[0])\n",
    "            del A[0]\n",
    "        i += 1\n",
    "    #print('    !', i, ': ', A, left, right)\n",
    "    res = left\n",
    "    right.reverse()\n",
    "    res.extend(right)\n",
    "    return res"
   ]
  },
  {
   "cell_type": "code",
   "execution_count": 5,
   "metadata": {},
   "outputs": [],
   "source": [
    "def opt(a):\n",
    "    #print('!!', a)\n",
    "    if len(a) == 0:\n",
    "        return []\n",
    "    if len(a) == 1:\n",
    "        return [a[0]]\n",
    "    if len(a) == 2:\n",
    "        return [a[-1], a[0]]\n",
    "    #return [a[-1], a[0]].append(opt(a[1:-1]).reverse())\n",
    "    x = [a[-1], a[0]]\n",
    "    y = opt(a[1:-1])\n",
    "    y.reverse()\n",
    "    x.extend(y)\n",
    "    return x\n",
    "\n",
    "def compute_sum_of_products_algo_large_r(a):\n",
    "    a.sort()\n",
    "    return opt(a)"
   ]
  },
  {
   "cell_type": "code",
   "execution_count": 6,
   "metadata": {},
   "outputs": [],
   "source": [
    "def print_sum_of_products_algo(A):\n",
    "    A = compute_sum_of_products_algo_large_r(A)\n",
    "    sum_c = compute_sum_of_products(A)\n",
    "    print('', A, '=>',sum_c, '')\n",
    "    return sum_c"
   ]
  },
  {
   "cell_type": "code",
   "execution_count": 7,
   "metadata": {},
   "outputs": [],
   "source": [
    "def compute_sum_of_products_permute(A):\n",
    "    Ac = A # copy the original list\n",
    "    Ap = list(itertools.permutations(A))\n",
    "    res_l = []\n",
    "    for A in Ap:\n",
    "        A = list(A)\n",
    "        sum_c = compute_sum_of_products(A)\n",
    "        res_l.append((sum_c, A))\n",
    "    return (Ac, res_l)"
   ]
  },
  {
   "cell_type": "code",
   "execution_count": 8,
   "metadata": {},
   "outputs": [],
   "source": [
    "def print_sum_of_products(res, count=-1):\n",
    "    (Ac, res_l) = res\n",
    "    Ac.sort()\n",
    "    res_l.sort(key = operator.itemgetter(0))\n",
    "    perm_count = len(res_l)\n",
    "    count = perm_count if count < 0 else count\n",
    "    print(f'The problem: {Ac}')\n",
    "    print(f'Permutations: total({perm_count}), display({count})')\n",
    "    j = 0\n",
    "    (sum_c_old, A) = res_l[0]\n",
    "    sum_c_lowest = sum_c_old\n",
    "    for i in range(count):\n",
    "        loop = True\n",
    "        while loop and j < perm_count:\n",
    "            (sum_c, A) = res_l[j]\n",
    "            if sum_c == sum_c_old:\n",
    "                heading = 'P'\n",
    "                print(heading, A, '=>', sum_c)\n",
    "                j = j + 1\n",
    "            else:\n",
    "                loop = False\n",
    "            sum_c_old = sum_c\n",
    "    return sum_c_lowest"
   ]
  },
  {
   "cell_type": "code",
   "execution_count": 9,
   "metadata": {},
   "outputs": [],
   "source": [
    "def compute_print_sum_of_products_permute(A, count=-1):\n",
    "    res = compute_sum_of_products_permute(A)\n",
    "    sum_c_permute = print_sum_of_products(res, count)\n",
    "    sum_c_algo = print_sum_of_products_algo(A)\n",
    "    if sum_c_permute != sum_c_algo:\n",
    "        print('  failure for: ', A)"
   ]
  },
  {
   "cell_type": "code",
   "execution_count": 10,
   "metadata": {},
   "outputs": [],
   "source": [
    "NO_OF_ROWS_TO_PRINT = 10"
   ]
  },
  {
   "cell_type": "code",
   "execution_count": 11,
   "metadata": {},
   "outputs": [],
   "source": [
    "data_large_l = [\n",
    "    [30, 20, 10, 5, 3, 2],\n",
    "    [30, 20, 10, 25, 33, 12],\n",
    "    [30, 20, 10, 25, 33, 12, 37, 39],\n",
    "    [30, 20, 10, 25, 33, 12],\n",
    "    [30, 20, 10, 25, 33, 12],\n",
    "    [30, 20, 10, 25, 12],\n",
    "    [30, 20, 10, 25, 12, 32],\n",
    "]"
   ]
  },
  {
   "cell_type": "code",
   "execution_count": 12,
   "metadata": {},
   "outputs": [],
   "source": [
    "data_small_l = [\n",
    "    [30, 20, 10, 25, 33, 12],\n",
    "    [30, 20, 10, 25, 33],\n",
    "    [30, 20, 10, 25, 33, 12],\n",
    "    [30, 20, 10, 25, 33, 12],\n",
    "    [30, 20, 10, 25, 33, 12, 15, 18],\n",
    "]"
   ]
  },
  {
   "cell_type": "code",
   "execution_count": 13,
   "metadata": {},
   "outputs": [],
   "source": [
    "data_small_2l = [\n",
    "    [30, 20, 10, 5, 3, 2],\n",
    "    [30, 20, 10, 25, 33, 12],\n",
    "    [30, 20, 10, 25, 33, 12, 37, 39],\n",
    "    [30, 20, 10, 25, 33, 12],\n",
    "    [30, 20, 10, 25, 33, 12],\n",
    "    [30, 20, 10, 25, 12],\n",
    "    [30, 20, 10, 25, 12, 32],\n",
    "]"
   ]
  },
  {
   "cell_type": "code",
   "execution_count": 14,
   "metadata": {},
   "outputs": [],
   "source": [
    "data_medium_l = [\n",
    "    [30, 20, 10, 25, 33, 12],\n",
    "]"
   ]
  },
  {
   "cell_type": "code",
   "execution_count": 15,
   "metadata": {},
   "outputs": [],
   "source": [
    "def evaluate_cases(data_l):\n",
    "    for data in data_l:\n",
    "        print(\"..................................\")\n",
    "        A = data\n",
    "        compute_print_sum_of_products_permute(A, NO_OF_ROWS_TO_PRINT)"
   ]
  },
  {
   "cell_type": "code",
   "execution_count": 16,
   "metadata": {},
   "outputs": [],
   "source": [
    "def evaluate_cases_random():\n",
    "    for i in range(3, 11):\n",
    "        for k in range(50):\n",
    "            A = []\n",
    "            for j in range(i):\n",
    "                A.append(random.randint(5, 200))\n",
    "            print(\"..................................\")\n",
    "            compute_print_sum_of_products_permute(A, NO_OF_ROWS_TO_PRINT)"
   ]
  },
  {
   "cell_type": "code",
   "execution_count": 17,
   "metadata": {},
   "outputs": [],
   "source": [
    "data_large_2l = [\n",
    "    [30, 20, 10, 5, 3, 2, 6],\n",
    "    [30, 20, 10, 25, 12, 32, 8],\n",
    "    [30, 20, 10, 25, 12, 32, 8, 30, 31],\n",
    "    [30, 20, 10, 25, 12, 32, 8, 30, 31, 48],\n",
    "]"
   ]
  },
  {
   "cell_type": "code",
   "execution_count": 18,
   "metadata": {},
   "outputs": [],
   "source": [
    "data_illustration = [\n",
    "    [69, 113, 154],\n",
    "    [57, 78, 157, 175],\n",
    "    [53, 62, 103, 149, 155],\n",
    "    [36, 42, 47, 100, 125, 148, 160, 176, 179, 198],\n",
    "    [8, 38, 91, 100, 105, 110, 136, 152, 172],\n",
    "]"
   ]
  },
  {
   "cell_type": "code",
   "execution_count": 19,
   "metadata": {},
   "outputs": [],
   "source": [
    "#evaluate_cases(data_large_l)"
   ]
  },
  {
   "cell_type": "code",
   "execution_count": 20,
   "metadata": {},
   "outputs": [],
   "source": [
    "#evaluate_cases(data_large_2l)"
   ]
  },
  {
   "cell_type": "code",
   "execution_count": 21,
   "metadata": {},
   "outputs": [],
   "source": [
    "#evaluate_cases(data_small_l)"
   ]
  },
  {
   "cell_type": "code",
   "execution_count": 22,
   "metadata": {},
   "outputs": [],
   "source": [
    "#evaluate_cases(data_medium_l)"
   ]
  },
  {
   "cell_type": "code",
   "execution_count": 23,
   "metadata": {},
   "outputs": [],
   "source": [
    "#evaluate_cases_random()"
   ]
  },
  {
   "cell_type": "code",
   "execution_count": 24,
   "metadata": {},
   "outputs": [
    {
     "name": "stdout",
     "output_type": "stream",
     "text": [
      "..................................\n",
      "The problem: [69, 113, 154]\n",
      "Permutations: total(6), display(10)\n",
      "P [113, 69, 154] => 18423\n",
      "P [154, 69, 113] => 18423\n",
      "P [69, 113, 154] => 25199\n",
      "P [154, 113, 69] => 25199\n",
      "P [69, 154, 113] => 28028\n",
      "P [113, 154, 69] => 28028\n",
      " [154, 69, 113] => 18423 \n",
      "..................................\n",
      "The problem: [57, 78, 157, 175]\n",
      "Permutations: total(24), display(10)\n",
      "P [157, 78, 57, 175] => 26667\n",
      "P [175, 57, 78, 157] => 26667\n",
      "P [157, 57, 78, 175] => 27045\n",
      "P [175, 78, 57, 157] => 27045\n",
      "P [78, 157, 57, 175] => 31170\n",
      "P [175, 57, 157, 78] => 31170\n",
      "P [78, 175, 57, 157] => 32574\n",
      "P [157, 57, 175, 78] => 32574\n",
      "P [57, 157, 78, 175] => 34845\n",
      "P [175, 78, 157, 57] => 34845\n",
      "P [57, 175, 78, 157] => 35871\n",
      "P [157, 78, 175, 57] => 35871\n",
      "P [78, 57, 157, 175] => 40870\n",
      "P [175, 157, 57, 78] => 40870\n",
      "P [78, 57, 175, 157] => 41896\n",
      "P [157, 175, 57, 78] => 41896\n",
      "P [57, 78, 157, 175] => 44167\n",
      "P [175, 157, 78, 57] => 44167\n",
      "P [57, 78, 175, 157] => 45571\n",
      "P [157, 175, 78, 57] => 45571\n",
      " [175, 57, 78, 157] => 26667 \n",
      "..................................\n",
      "The problem: [53, 62, 103, 149, 155]\n",
      "Permutations: total(120), display(10)\n",
      "P [149, 62, 103, 53, 155] => 29298\n",
      "P [155, 53, 103, 62, 149] => 29298\n",
      "P [149, 53, 103, 62, 155] => 29352\n",
      "P [155, 62, 103, 53, 149] => 29352\n",
      "P [103, 62, 149, 53, 155] => 31736\n",
      "P [155, 53, 149, 62, 103] => 31736\n",
      "P [103, 62, 155, 53, 149] => 32108\n",
      "P [149, 53, 155, 62, 103] => 32108\n",
      "P [103, 53, 149, 62, 155] => 32204\n",
      "P [155, 62, 149, 53, 103] => 32204\n",
      "P [103, 53, 155, 62, 149] => 32522\n",
      "P [149, 62, 155, 53, 103] => 32522\n",
      "P [149, 103, 62, 53, 155] => 33234\n",
      "P [155, 53, 62, 103, 149] => 33234\n",
      "P [149, 53, 62, 103, 155] => 33534\n",
      "P [155, 103, 62, 53, 149] => 33534\n",
      "P [149, 103, 53, 62, 155] => 33702\n",
      "P [155, 62, 53, 103, 149] => 33702\n",
      "P [149, 62, 53, 103, 155] => 33948\n",
      "P [155, 103, 53, 62, 149] => 33948\n",
      " [155, 53, 103, 62, 149] => 29298 \n",
      "..................................\n",
      "The problem: [36, 42, 47, 100, 125, 148, 160, 176, 179, 198]\n",
      "Permutations: total(3628800), display(10)\n",
      "P [179, 42, 160, 100, 125, 148, 47, 176, 36, 198] => 89930\n",
      "P [198, 36, 176, 47, 148, 125, 100, 160, 42, 179] => 89930\n",
      "P [179, 47, 148, 125, 100, 160, 42, 176, 36, 198] => 89945\n",
      "P [198, 36, 176, 42, 160, 100, 125, 148, 47, 179] => 89945\n",
      "P [179, 42, 148, 125, 100, 160, 47, 176, 36, 198] => 89990\n",
      "P [198, 36, 176, 47, 160, 100, 125, 148, 42, 179] => 89990\n",
      "P [179, 47, 160, 100, 125, 148, 42, 176, 36, 198] => 90005\n",
      "P [198, 36, 176, 42, 148, 125, 100, 160, 47, 179] => 90005\n",
      "P [179, 42, 176, 47, 148, 125, 100, 160, 36, 198] => 90026\n",
      "P [198, 36, 160, 100, 125, 148, 47, 176, 42, 179] => 90026\n",
      "P [176, 47, 148, 125, 100, 160, 42, 179, 36, 198] => 90038\n",
      "P [198, 36, 179, 42, 160, 100, 125, 148, 47, 176] => 90038\n",
      "P [179, 36, 176, 47, 148, 125, 100, 160, 42, 198] => 90044\n",
      "P [198, 42, 160, 100, 125, 148, 47, 176, 36, 179] => 90044\n",
      "P [176, 42, 160, 100, 125, 148, 47, 179, 36, 198] => 90053\n",
      "P [198, 36, 179, 47, 148, 125, 100, 160, 42, 176] => 90053\n",
      "P [176, 47, 160, 100, 125, 148, 42, 179, 36, 198] => 90098\n",
      "P [198, 36, 179, 42, 148, 125, 100, 160, 47, 176] => 90098\n",
      "P [179, 36, 176, 47, 160, 100, 125, 148, 42, 198] => 90104\n",
      "P [198, 42, 148, 125, 100, 160, 47, 176, 36, 179] => 90104\n",
      " [198, 36, 176, 47, 148, 125, 100, 160, 42, 179] => 89930 \n",
      "..................................\n",
      "The problem: [8, 38, 91, 100, 105, 110, 136, 152, 172]\n",
      "Permutations: total(362880), display(10)\n",
      "P [152, 38, 110, 100, 105, 91, 136, 8, 172] => 55851\n",
      "P [172, 8, 136, 91, 105, 100, 110, 38, 152] => 55851\n",
      "P [152, 38, 110, 105, 100, 91, 136, 8, 172] => 55946\n",
      "P [172, 8, 136, 91, 100, 105, 110, 38, 152] => 55946\n",
      "P [136, 91, 105, 100, 110, 38, 152, 8, 172] => 55979\n",
      "P [172, 8, 152, 38, 110, 100, 105, 91, 136] => 55979\n",
      "P [136, 91, 100, 105, 110, 38, 152, 8, 172] => 56074\n",
      "P [172, 8, 152, 38, 110, 105, 100, 91, 136] => 56074\n",
      "P [152, 38, 110, 91, 105, 100, 136, 8, 172] => 56085\n",
      "P [172, 8, 136, 100, 105, 91, 110, 38, 152] => 56085\n",
      "P [152, 38, 105, 100, 110, 91, 136, 8, 172] => 56116\n",
      "P [172, 8, 136, 91, 110, 100, 105, 38, 152] => 56116\n",
      "P [136, 100, 105, 91, 110, 38, 152, 8, 172] => 56213\n",
      "P [172, 8, 152, 38, 110, 91, 105, 100, 136] => 56213\n",
      "P [152, 38, 110, 105, 91, 100, 136, 8, 172] => 56225\n",
      "P [172, 8, 136, 100, 91, 105, 110, 38, 152] => 56225\n",
      "P [136, 91, 110, 100, 105, 38, 152, 8, 172] => 56244\n",
      "P [172, 8, 152, 38, 105, 100, 110, 91, 136] => 56244\n",
      "P [152, 38, 105, 110, 100, 91, 136, 8, 172] => 56256\n",
      "P [172, 8, 136, 91, 100, 110, 105, 38, 152] => 56256\n",
      " [172, 8, 136, 91, 105, 100, 110, 38, 152] => 55851 \n"
     ]
    }
   ],
   "source": [
    "evaluate_cases(data_illustration)"
   ]
  }
 ],
 "metadata": {
  "kernelspec": {
   "display_name": "Python 3",
   "language": "python",
   "name": "python3"
  },
  "language_info": {
   "codemirror_mode": {
    "name": "ipython",
    "version": 3
   },
   "file_extension": ".py",
   "mimetype": "text/x-python",
   "name": "python",
   "nbconvert_exporter": "python",
   "pygments_lexer": "ipython3",
   "version": "3.8.3"
  }
 },
 "nbformat": 4,
 "nbformat_minor": 4
}
