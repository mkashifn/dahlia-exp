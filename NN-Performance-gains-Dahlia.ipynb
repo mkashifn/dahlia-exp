{
 "cells": [
  {
   "cell_type": "code",
   "execution_count": 1,
   "metadata": {},
   "outputs": [],
   "source": [
    "def compute_sum_of_products(A):\n",
    "    res = 0\n",
    "    for i in range(len(A)-1):\n",
    "        res += A[i]*A[i+1]\n",
    "    #print(A, '=>',res)\n",
    "    return res"
   ]
  },
  {
   "cell_type": "code",
   "execution_count": 2,
   "metadata": {},
   "outputs": [],
   "source": [
    "strcutures = {\n",
    "    '1': [97, 48, 73, 58, 64, 53, 83],\n",
    "    '2': [88, 52, 66, 58, 75],\n",
    "    '3': [57, 31, 43, 38, 34, 49],\n",
    "    '4': [101, 46, 67, 55, 60, 50, 75],\n",
    "    '5': [87, 43, 58, 52, 47, 75],\n",
    "    '6': [88, 44, 58, 52, 48, 75],\n",
    "    '7': [59, 32, 44, 39, 35, 50],\n",
    "    '8': [76, 48, 59, 53, 67],\n",
    "    '9': [88, 48, 59, 53, 76]\n",
    "}"
   ]
  },
  {
   "cell_type": "code",
   "execution_count": 12,
   "metadata": {},
   "outputs": [
    {
     "name": "stdout",
     "output_type": "stream",
     "text": [
      "23897,28112\n",
      "16186,18394\n",
      "7692,8880\n",
      "21463,24970\n",
      "15220,18356\n",
      "15536,18574\n",
      "8127,9351\n",
      "13158,14716\n",
      "14211,16843\n"
     ]
    }
   ],
   "source": [
    "for i in strcutures:\n",
    "    d = strcutures[i]\n",
    "    dahlia = compute_sum_of_products(d)\n",
    "    n = d.copy()\n",
    "    n.sort()\n",
    "    naive = compute_sum_of_products(n)\n",
    "    print(f'{dahlia},{naive}')"
   ]
  },
  {
   "cell_type": "code",
   "execution_count": null,
   "metadata": {},
   "outputs": [],
   "source": []
  },
  {
   "cell_type": "code",
   "execution_count": null,
   "metadata": {},
   "outputs": [],
   "source": []
  }
 ],
 "metadata": {
  "kernelspec": {
   "display_name": "Python 3",
   "language": "python",
   "name": "python3"
  },
  "language_info": {
   "codemirror_mode": {
    "name": "ipython",
    "version": 3
   },
   "file_extension": ".py",
   "mimetype": "text/x-python",
   "name": "python",
   "nbconvert_exporter": "python",
   "pygments_lexer": "ipython3",
   "version": "3.8.3"
  }
 },
 "nbformat": 4,
 "nbformat_minor": 4
}
